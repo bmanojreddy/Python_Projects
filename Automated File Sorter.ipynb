{
 "cells": [
  {
   "cell_type": "markdown",
   "id": "bf2d8f81",
   "metadata": {},
   "source": [
    "# Automated file sorter "
   ]
  },
  {
   "cell_type": "code",
   "execution_count": 2,
   "id": "a3cea45c",
   "metadata": {},
   "outputs": [],
   "source": [
    "import os,shutil"
   ]
  },
  {
   "cell_type": "code",
   "execution_count": 3,
   "id": "255b3a30",
   "metadata": {},
   "outputs": [],
   "source": [
    "path = r\"D:/Project Sample/\""
   ]
  },
  {
   "cell_type": "code",
   "execution_count": 4,
   "id": "d6e1e39e",
   "metadata": {},
   "outputs": [
    {
     "name": "stdout",
     "output_type": "stream",
     "text": [
      "['AI.jpg', 'CyberSecurity Tutorial-Simplilearn.pdf', 'Jaakla.txt', 'Leonardo_Kino_XL_Create_a_vibrant_and_futuristic_illustration_0.jpg']\n"
     ]
    }
   ],
   "source": [
    "filename=os.listdir(path)\n",
    "print(filename)"
   ]
  },
  {
   "cell_type": "code",
   "execution_count": 5,
   "id": "2fcb3069",
   "metadata": {},
   "outputs": [],
   "source": [
    "foldernames=['Text','Images','PDF']"
   ]
  },
  {
   "cell_type": "code",
   "execution_count": 7,
   "id": "4d0379fe",
   "metadata": {},
   "outputs": [
    {
     "name": "stdout",
     "output_type": "stream",
     "text": [
      "D:/Project Sample/Text\n",
      "D:/Project Sample/Images\n",
      "D:/Project Sample/PDF\n"
     ]
    }
   ],
   "source": [
    "for loop in range(0,3):\n",
    "    if not os.path.exists(path + foldernames[loop]):\n",
    "        print(path + foldernames[loop])\n",
    "        os.makedirs(path + foldernames[loop])\n",
    "        "
   ]
  },
  {
   "cell_type": "code",
   "execution_count": 12,
   "id": "cc28712b",
   "metadata": {},
   "outputs": [],
   "source": [
    "for file in filename:\n",
    "    if '.txt' in file and not os.path.exists(path + 'Text/' + file):\n",
    "        shutil.move(path + file , path + 'Text/' + file)\n",
    "    elif '.pdf' in file and not os.path.exists(path + 'PDF/' + file):\n",
    "        shutil.move(path + file , path + 'PDF/' + file)\n",
    "    elif '.jpg' in file and not os.path.exists(path + 'Images/'+file):\n",
    "        shutil.move(path + file ,path + 'Images/' + file)\n",
    "        "
   ]
  },
  {
   "cell_type": "markdown",
   "id": "3a36bc38",
   "metadata": {},
   "source": [
    "This Python code helps to sort files into their respective format folders , you can modify the code, file types and paths according to your requirements ."
   ]
  }
 ],
 "metadata": {
  "kernelspec": {
   "display_name": "Python 3 (ipykernel)",
   "language": "python",
   "name": "python3"
  },
  "language_info": {
   "codemirror_mode": {
    "name": "ipython",
    "version": 3
   },
   "file_extension": ".py",
   "mimetype": "text/x-python",
   "name": "python",
   "nbconvert_exporter": "python",
   "pygments_lexer": "ipython3",
   "version": "3.11.5"
  }
 },
 "nbformat": 4,
 "nbformat_minor": 5
}
